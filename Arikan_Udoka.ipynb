{
 "cells": [
  {
   "cell_type": "markdown",
   "id": "77e98988",
   "metadata": {},
   "source": [
    "# Project: Analysis of No Show Appointments\n",
    "\n",
    "## Table of Contents\n",
    "\n",
    "<ul>\n",
    "<li><a href=\"#intro\">Introduction</a></li>\n",
    "<li><a href=\"#wrangling\">Data Wrangling</a></li>\n",
    "<li><a href=\"#eda\">Exploratory Data Analysis</a></li>\n",
    "<li><a href=\"#conclusions\">Conclusions</a></li>\n",
    "</ul>"
   ]
  },
  {
   "cell_type": "markdown",
   "id": "2716c9df",
   "metadata": {},
   "source": [
    "<a id='intro'></a>\n",
    "## Introduction\n",
    "\n",
    "### Description\n",
    "In this project, we will be investigating 100k+ medical appointment data from Brazil\n",
    "\n",
    "In particular, we will be interested in finding variables that lead to missed appointments.\n",
    "\n",
    "**COLUMNS**\n",
    "<ul>\n",
    "<li>PateintId: Patients Identification Number</li>\n",
    "<li>AppointmentId: Appointment Identification Number</li>\n",
    "<li>Gender: Gender of Patient</li>\n",
    "<li>ScheduledDay: Day Appointment was scheduled</li>\n",
    "<li>Appoinmtent Day: Day of Appointment</li>\n",
    "<li>Age: Age of Patient</li>\n",
    "<li>Neighbourhood: Neighbourhood of Patient</li>\n",
    "<li>Scholarship: Patient on Social Welfare</li>\n",
    "<li>Hypertension</li> \n",
    "<li>Diabetes</li>\n",
    "<li>Alcoholism</li>\n",
    "<li>Handcap</li>\n",
    "<li>SMS_received</li>\n",
    "<li>No-show</li>\n",
    "</ul>"
   ]
  },
  {
   "cell_type": "markdown",
   "id": "d24e25b3",
   "metadata": {},
   "source": [
    "### Question for Analysis\n",
    "##### What are the variables that might affect a no show patient?\n",
    "> For this we look at the most obvious variables Gender, Age and Scholarship (Social Welfare)"
   ]
  },
  {
   "cell_type": "code",
   "execution_count": 1,
   "id": "1ab6651d",
   "metadata": {},
   "outputs": [],
   "source": [
    "#import packages here\n",
    "from datetime import datetime as dt\n",
    "import pandas as pd\n",
    "import numpy as np\n",
    "import seaborn as sns\n",
    "import matplotlib.pyplot as plt\n",
    "\n",
    "%matplotlib inline"
   ]
  },
  {
   "cell_type": "markdown",
   "id": "fb1b1281",
   "metadata": {},
   "source": [
    "<a id='wrangling'></a>\n",
    "## DATA WRANGLING\n",
    ">The dataset we will be analysing is uploaded and examined to check for \"cleanlinness\" "
   ]
  },
  {
   "cell_type": "code",
   "execution_count": 2,
   "id": "f1040240",
   "metadata": {},
   "outputs": [
    {
     "data": {
      "text/html": [
       "<div>\n",
       "<style scoped>\n",
       "    .dataframe tbody tr th:only-of-type {\n",
       "        vertical-align: middle;\n",
       "    }\n",
       "\n",
       "    .dataframe tbody tr th {\n",
       "        vertical-align: top;\n",
       "    }\n",
       "\n",
       "    .dataframe thead th {\n",
       "        text-align: right;\n",
       "    }\n",
       "</style>\n",
       "<table border=\"1\" class=\"dataframe\">\n",
       "  <thead>\n",
       "    <tr style=\"text-align: right;\">\n",
       "      <th></th>\n",
       "      <th>PatientId</th>\n",
       "      <th>AppointmentID</th>\n",
       "      <th>Gender</th>\n",
       "      <th>ScheduledDay</th>\n",
       "      <th>AppointmentDay</th>\n",
       "      <th>Age</th>\n",
       "      <th>Neighbourhood</th>\n",
       "      <th>Scholarship</th>\n",
       "      <th>Hipertension</th>\n",
       "      <th>Diabetes</th>\n",
       "      <th>Alcoholism</th>\n",
       "      <th>Handcap</th>\n",
       "      <th>SMS_received</th>\n",
       "      <th>No-show</th>\n",
       "    </tr>\n",
       "  </thead>\n",
       "  <tbody>\n",
       "    <tr>\n",
       "      <th>0</th>\n",
       "      <td>2.987250e+13</td>\n",
       "      <td>5642903</td>\n",
       "      <td>F</td>\n",
       "      <td>2016-04-29T18:38:08Z</td>\n",
       "      <td>2016-04-29T00:00:00Z</td>\n",
       "      <td>62</td>\n",
       "      <td>JARDIM DA PENHA</td>\n",
       "      <td>0</td>\n",
       "      <td>1</td>\n",
       "      <td>0</td>\n",
       "      <td>0</td>\n",
       "      <td>0</td>\n",
       "      <td>0</td>\n",
       "      <td>No</td>\n",
       "    </tr>\n",
       "  </tbody>\n",
       "</table>\n",
       "</div>"
      ],
      "text/plain": [
       "      PatientId  AppointmentID Gender          ScheduledDay  \\\n",
       "0  2.987250e+13        5642903      F  2016-04-29T18:38:08Z   \n",
       "\n",
       "         AppointmentDay  Age    Neighbourhood  Scholarship  Hipertension  \\\n",
       "0  2016-04-29T00:00:00Z   62  JARDIM DA PENHA            0             1   \n",
       "\n",
       "   Diabetes  Alcoholism  Handcap  SMS_received No-show  \n",
       "0         0           0        0             0      No  "
      ]
     },
     "execution_count": 2,
     "metadata": {},
     "output_type": "execute_result"
    }
   ],
   "source": [
    "# custom_date =lambda x: datetime.strftime(x, \"%Y-%m-%d\")\n",
    "#read and load dataframe\n",
    "df = pd.read_csv('noshow.csv')\n",
    "df.head(1)"
   ]
  },
  {
   "cell_type": "code",
   "execution_count": 3,
   "id": "5dbb12da",
   "metadata": {},
   "outputs": [
    {
     "data": {
      "text/plain": [
       "(110527, 14)"
      ]
     },
     "execution_count": 3,
     "metadata": {},
     "output_type": "execute_result"
    }
   ],
   "source": [
    "df.shape"
   ]
  },
  {
   "cell_type": "markdown",
   "id": "ef9f7b3c",
   "metadata": {},
   "source": [
    "> The dataset contains 110,527 rows and 14 columns"
   ]
  },
  {
   "cell_type": "markdown",
   "id": "25958a72",
   "metadata": {},
   "source": [
    "### Data Cleaning"
   ]
  },
  {
   "cell_type": "markdown",
   "id": "9e7b7bf0",
   "metadata": {},
   "source": [
    "Check the datatypes of each column. We can see that \"scheduledday\" and \"appointmentday\" need to be changed to date dtype."
   ]
  },
  {
   "cell_type": "code",
   "execution_count": 4,
   "id": "906733da",
   "metadata": {},
   "outputs": [
    {
     "name": "stdout",
     "output_type": "stream",
     "text": [
      "<class 'pandas.core.frame.DataFrame'>\n",
      "RangeIndex: 110527 entries, 0 to 110526\n",
      "Data columns (total 14 columns):\n",
      " #   Column          Non-Null Count   Dtype  \n",
      "---  ------          --------------   -----  \n",
      " 0   PatientId       110527 non-null  float64\n",
      " 1   AppointmentID   110527 non-null  int64  \n",
      " 2   Gender          110527 non-null  object \n",
      " 3   ScheduledDay    110527 non-null  object \n",
      " 4   AppointmentDay  110527 non-null  object \n",
      " 5   Age             110527 non-null  int64  \n",
      " 6   Neighbourhood   110527 non-null  object \n",
      " 7   Scholarship     110527 non-null  int64  \n",
      " 8   Hipertension    110527 non-null  int64  \n",
      " 9   Diabetes        110527 non-null  int64  \n",
      " 10  Alcoholism      110527 non-null  int64  \n",
      " 11  Handcap         110527 non-null  int64  \n",
      " 12  SMS_received    110527 non-null  int64  \n",
      " 13  No-show         110527 non-null  object \n",
      "dtypes: float64(1), int64(8), object(5)\n",
      "memory usage: 11.8+ MB\n"
     ]
    }
   ],
   "source": [
    "#check datatypes of columns\n",
    "df.info();"
   ]
  },
  {
   "cell_type": "markdown",
   "id": "e0aad1ea",
   "metadata": {},
   "source": [
    "Check for non unique values in the dataset."
   ]
  },
  {
   "cell_type": "code",
   "execution_count": 5,
   "id": "5b80d151",
   "metadata": {},
   "outputs": [
    {
     "data": {
      "text/plain": [
       "PatientId          62299\n",
       "AppointmentID     110527\n",
       "Gender                 2\n",
       "ScheduledDay      103549\n",
       "AppointmentDay        27\n",
       "Age                  104\n",
       "Neighbourhood         81\n",
       "Scholarship            2\n",
       "Hipertension           2\n",
       "Diabetes               2\n",
       "Alcoholism             2\n",
       "Handcap                5\n",
       "SMS_received           2\n",
       "No-show                2\n",
       "dtype: int64"
      ]
     },
     "execution_count": 5,
     "metadata": {},
     "output_type": "execute_result"
    }
   ],
   "source": [
    "df.nunique()"
   ]
  },
  {
   "cell_type": "markdown",
   "id": "83b6e6c3",
   "metadata": {},
   "source": [
    "We can see that 62k+ patients made over 110k appointments"
   ]
  },
  {
   "cell_type": "markdown",
   "id": "e0579c14",
   "metadata": {},
   "source": [
    "Make all column names lowercase and change '-' to '_' for uniformity."
   ]
  },
  {
   "cell_type": "code",
   "execution_count": 6,
   "id": "d0d9c8bf",
   "metadata": {},
   "outputs": [],
   "source": [
    "#make all column names lowercase and replace '-' with '_'\n",
    "df.rename(columns = lambda x:x.strip().lower().replace('-', '_'), inplace=True)"
   ]
  },
  {
   "cell_type": "markdown",
   "id": "76bd32f3",
   "metadata": {},
   "source": [
    "Correct Misspelled column(s)"
   ]
  },
  {
   "cell_type": "code",
   "execution_count": 7,
   "id": "f6097c41",
   "metadata": {},
   "outputs": [],
   "source": [
    "# df.rename(columns={'hipertension':'hypertension'}, inplace=True)\n",
    "def correct_name(a,b):\n",
    "    df.rename(columns={a:b}, inplace=True)\n",
    "    c = df.rename(columns={a:b}, inplace=True)\n",
    "    print(c)"
   ]
  },
  {
   "cell_type": "code",
   "execution_count": 8,
   "id": "c60cb95d",
   "metadata": {},
   "outputs": [
    {
     "name": "stdout",
     "output_type": "stream",
     "text": [
      "None\n",
      "None\n",
      "None\n"
     ]
    },
    {
     "data": {
      "text/html": [
       "<div>\n",
       "<style scoped>\n",
       "    .dataframe tbody tr th:only-of-type {\n",
       "        vertical-align: middle;\n",
       "    }\n",
       "\n",
       "    .dataframe tbody tr th {\n",
       "        vertical-align: top;\n",
       "    }\n",
       "\n",
       "    .dataframe thead th {\n",
       "        text-align: right;\n",
       "    }\n",
       "</style>\n",
       "<table border=\"1\" class=\"dataframe\">\n",
       "  <thead>\n",
       "    <tr style=\"text-align: right;\">\n",
       "      <th></th>\n",
       "      <th>patientid</th>\n",
       "      <th>appointmentid</th>\n",
       "      <th>gender</th>\n",
       "      <th>scheduledday</th>\n",
       "      <th>appt_day</th>\n",
       "      <th>age</th>\n",
       "      <th>neighbourhood</th>\n",
       "      <th>scholarship</th>\n",
       "      <th>hypertension</th>\n",
       "      <th>diabetes</th>\n",
       "      <th>alcoholism</th>\n",
       "      <th>handicap</th>\n",
       "      <th>sms_received</th>\n",
       "      <th>no_show</th>\n",
       "    </tr>\n",
       "  </thead>\n",
       "  <tbody>\n",
       "    <tr>\n",
       "      <th>0</th>\n",
       "      <td>2.987250e+13</td>\n",
       "      <td>5642903</td>\n",
       "      <td>F</td>\n",
       "      <td>2016-04-29T18:38:08Z</td>\n",
       "      <td>2016-04-29T00:00:00Z</td>\n",
       "      <td>62</td>\n",
       "      <td>JARDIM DA PENHA</td>\n",
       "      <td>0</td>\n",
       "      <td>1</td>\n",
       "      <td>0</td>\n",
       "      <td>0</td>\n",
       "      <td>0</td>\n",
       "      <td>0</td>\n",
       "      <td>No</td>\n",
       "    </tr>\n",
       "    <tr>\n",
       "      <th>1</th>\n",
       "      <td>5.589978e+14</td>\n",
       "      <td>5642503</td>\n",
       "      <td>M</td>\n",
       "      <td>2016-04-29T16:08:27Z</td>\n",
       "      <td>2016-04-29T00:00:00Z</td>\n",
       "      <td>56</td>\n",
       "      <td>JARDIM DA PENHA</td>\n",
       "      <td>0</td>\n",
       "      <td>0</td>\n",
       "      <td>0</td>\n",
       "      <td>0</td>\n",
       "      <td>0</td>\n",
       "      <td>0</td>\n",
       "      <td>No</td>\n",
       "    </tr>\n",
       "    <tr>\n",
       "      <th>2</th>\n",
       "      <td>4.262962e+12</td>\n",
       "      <td>5642549</td>\n",
       "      <td>F</td>\n",
       "      <td>2016-04-29T16:19:04Z</td>\n",
       "      <td>2016-04-29T00:00:00Z</td>\n",
       "      <td>62</td>\n",
       "      <td>MATA DA PRAIA</td>\n",
       "      <td>0</td>\n",
       "      <td>0</td>\n",
       "      <td>0</td>\n",
       "      <td>0</td>\n",
       "      <td>0</td>\n",
       "      <td>0</td>\n",
       "      <td>No</td>\n",
       "    </tr>\n",
       "    <tr>\n",
       "      <th>3</th>\n",
       "      <td>8.679512e+11</td>\n",
       "      <td>5642828</td>\n",
       "      <td>F</td>\n",
       "      <td>2016-04-29T17:29:31Z</td>\n",
       "      <td>2016-04-29T00:00:00Z</td>\n",
       "      <td>8</td>\n",
       "      <td>PONTAL DE CAMBURI</td>\n",
       "      <td>0</td>\n",
       "      <td>0</td>\n",
       "      <td>0</td>\n",
       "      <td>0</td>\n",
       "      <td>0</td>\n",
       "      <td>0</td>\n",
       "      <td>No</td>\n",
       "    </tr>\n",
       "    <tr>\n",
       "      <th>4</th>\n",
       "      <td>8.841186e+12</td>\n",
       "      <td>5642494</td>\n",
       "      <td>F</td>\n",
       "      <td>2016-04-29T16:07:23Z</td>\n",
       "      <td>2016-04-29T00:00:00Z</td>\n",
       "      <td>56</td>\n",
       "      <td>JARDIM DA PENHA</td>\n",
       "      <td>0</td>\n",
       "      <td>1</td>\n",
       "      <td>1</td>\n",
       "      <td>0</td>\n",
       "      <td>0</td>\n",
       "      <td>0</td>\n",
       "      <td>No</td>\n",
       "    </tr>\n",
       "  </tbody>\n",
       "</table>\n",
       "</div>"
      ],
      "text/plain": [
       "      patientid  appointmentid gender          scheduledday  \\\n",
       "0  2.987250e+13        5642903      F  2016-04-29T18:38:08Z   \n",
       "1  5.589978e+14        5642503      M  2016-04-29T16:08:27Z   \n",
       "2  4.262962e+12        5642549      F  2016-04-29T16:19:04Z   \n",
       "3  8.679512e+11        5642828      F  2016-04-29T17:29:31Z   \n",
       "4  8.841186e+12        5642494      F  2016-04-29T16:07:23Z   \n",
       "\n",
       "               appt_day  age      neighbourhood  scholarship  hypertension  \\\n",
       "0  2016-04-29T00:00:00Z   62    JARDIM DA PENHA            0             1   \n",
       "1  2016-04-29T00:00:00Z   56    JARDIM DA PENHA            0             0   \n",
       "2  2016-04-29T00:00:00Z   62      MATA DA PRAIA            0             0   \n",
       "3  2016-04-29T00:00:00Z    8  PONTAL DE CAMBURI            0             0   \n",
       "4  2016-04-29T00:00:00Z   56    JARDIM DA PENHA            0             1   \n",
       "\n",
       "   diabetes  alcoholism  handicap  sms_received no_show  \n",
       "0         0           0         0             0      No  \n",
       "1         0           0         0             0      No  \n",
       "2         0           0         0             0      No  \n",
       "3         0           0         0             0      No  \n",
       "4         1           0         0             0      No  "
      ]
     },
     "execution_count": 8,
     "metadata": {},
     "output_type": "execute_result"
    }
   ],
   "source": [
    "correct_name('hipertension', 'hypertension')\n",
    "correct_name('handcap', 'handicap')\n",
    "correct_name('appointmentday', 'appt_day')\n",
    "df.head()"
   ]
  },
  {
   "cell_type": "markdown",
   "id": "4657c320",
   "metadata": {},
   "source": [
    "Drop unused columns"
   ]
  },
  {
   "cell_type": "code",
   "execution_count": 9,
   "id": "d3d680bb",
   "metadata": {},
   "outputs": [],
   "source": [
    "df.drop(['appointmentid'], axis=1, inplace= True)"
   ]
  },
  {
   "cell_type": "markdown",
   "id": "5691624b",
   "metadata": {},
   "source": [
    "Check the info of dataframe to guide Exploratory Data Analysis"
   ]
  },
  {
   "cell_type": "markdown",
   "id": "44d49f7b",
   "metadata": {},
   "source": [
    "> Investigate \n",
    "<ul>\n",
    "    <li>Scholarship</li>\n",
    "    <li>Age</li>\n",
    "    <li>Gender</li>\n",
    "    \n",
    "</ul>"
   ]
  },
  {
   "cell_type": "code",
   "execution_count": 10,
   "id": "a0f79e68",
   "metadata": {
    "scrolled": true
   },
   "outputs": [
    {
     "name": "stdout",
     "output_type": "stream",
     "text": [
      "<class 'pandas.core.frame.DataFrame'>\n",
      "RangeIndex: 110527 entries, 0 to 110526\n",
      "Data columns (total 13 columns):\n",
      " #   Column         Non-Null Count   Dtype  \n",
      "---  ------         --------------   -----  \n",
      " 0   patientid      110527 non-null  float64\n",
      " 1   gender         110527 non-null  object \n",
      " 2   scheduledday   110527 non-null  object \n",
      " 3   appt_day       110527 non-null  object \n",
      " 4   age            110527 non-null  int64  \n",
      " 5   neighbourhood  110527 non-null  object \n",
      " 6   scholarship    110527 non-null  int64  \n",
      " 7   hypertension   110527 non-null  int64  \n",
      " 8   diabetes       110527 non-null  int64  \n",
      " 9   alcoholism     110527 non-null  int64  \n",
      " 10  handicap       110527 non-null  int64  \n",
      " 11  sms_received   110527 non-null  int64  \n",
      " 12  no_show        110527 non-null  object \n",
      "dtypes: float64(1), int64(7), object(5)\n",
      "memory usage: 11.0+ MB\n"
     ]
    }
   ],
   "source": [
    "df.info()"
   ]
  },
  {
   "cell_type": "code",
   "execution_count": 11,
   "id": "3602053b",
   "metadata": {},
   "outputs": [],
   "source": [
    "#maps the show columns variables from Yes and No to False and True respectively\n",
    "df['show']= df['no_show'].map({'Yes': False, 'No': True})\n"
   ]
  },
  {
   "cell_type": "markdown",
   "id": "b73d5cc0",
   "metadata": {},
   "source": [
    "<a id='eda'></a>\n",
    "## Exploratory Data Analysis"
   ]
  },
  {
   "cell_type": "markdown",
   "id": "c19a280c",
   "metadata": {},
   "source": [
    "#### First let's find out the percentage of patients who kept their appointments\n",
    "> First we will sum the show and no show appointments in 2 separate variables. Then use a pie chart to display it."
   ]
  },
  {
   "cell_type": "code",
   "execution_count": 12,
   "id": "499209be",
   "metadata": {},
   "outputs": [
    {
     "data": {
      "image/png": "[encoded data removed]",
      "text/plain": [
       "<Figure size 432x288 with 1 Axes>"
      ]
     },
     "metadata": {},
     "output_type": "display_data"
    },
    {
     "data": {
      "text/plain": [
       "<Figure size 1080x1080 with 0 Axes>"
      ]
     },
     "metadata": {},
     "output_type": "display_data"
    },
    {
     "name": "stdout",
     "output_type": "stream",
     "text": [
      "88208\n"
     ]
    }
   ],
   "source": [
    "# sum appointments of show and no show patients\n",
    "showed = (df['show'] == True).sum()\n",
    "showed_not = (df['show'] == False).sum()\n",
    "label = (\"showed up\", \"didn't show\")\n",
    "value = [showed, showed_not]\n",
    "\n",
    "#pie chart to display patient percentage\n",
    "plt.pie(value, labels = label, autopct= '%.1f%%')\n",
    "plt.title('Percentage of Patients')\n",
    "plt.figure(figsize=(15,15))\n",
    "plt.show();\n",
    "print(showed)"
   ]
  },
  {
   "cell_type": "markdown",
   "id": "92012435",
   "metadata": {},
   "source": [
    "20% of patients don't show for their scheduled appointments"
   ]
  },
  {
   "cell_type": "markdown",
   "id": "ab08e133",
   "metadata": {},
   "source": [
    "Create a function that groups patient_id and a given variable"
   ]
  },
  {
   "cell_type": "code",
   "execution_count": 13,
   "id": "0bcfe766",
   "metadata": {},
   "outputs": [],
   "source": [
    "#function to group columns by patient id and return a selected chart\n",
    "def make_plot(x,y):\n",
    "    df.groupby([x])['patientid'].count().plot(kind = y)\n",
    "    plt.title((\"patients per \" + x))\n",
    "    plt.xlabel(x)\n",
    "    plt.ylabel('no. of patients')\n",
    "    z = df.groupby([x])['patientid'].count()\n",
    "    print(z)"
   ]
  },
  {
   "cell_type": "code",
   "execution_count": 14,
   "id": "127e9c66",
   "metadata": {},
   "outputs": [
    {
     "name": "stdout",
     "output_type": "stream",
     "text": [
      "scholarship\n",
      "0    99666\n",
      "1    10861\n",
      "Name: patientid, dtype: int64\n"
     ]
    },
    {
     "data": {
      "image/png": "[encoded data removed]",
      "text/plain": [
       "<Figure size 432x288 with 1 Axes>"
      ]
     },
     "metadata": {
      "needs_background": "light"
     },
     "output_type": "display_data"
    }
   ],
   "source": [
    "make_plot('scholarship', 'bar')"
   ]
  },
  {
   "cell_type": "code",
   "execution_count": 15,
   "id": "88f19245",
   "metadata": {},
   "outputs": [
    {
     "name": "stdout",
     "output_type": "stream",
     "text": [
      "age\n",
      "-1         1\n",
      " 0      3539\n",
      " 1      2273\n",
      " 2      1618\n",
      " 3      1513\n",
      "        ... \n",
      " 98        6\n",
      " 99        1\n",
      " 100       4\n",
      " 102       2\n",
      " 115       5\n",
      "Name: patientid, Length: 104, dtype: int64\n"
     ]
    },
    {
     "data": {
      "image/png": "[encoded data removed]",
      "text/plain": [
       "<Figure size 432x288 with 1 Axes>"
      ]
     },
     "metadata": {
      "needs_background": "light"
     },
     "output_type": "display_data"
    }
   ],
   "source": [
    "make_plot('age', 'area')"
   ]
  },
  {
   "cell_type": "code",
   "execution_count": 16,
   "id": "0f472ddb",
   "metadata": {},
   "outputs": [
    {
     "name": "stdout",
     "output_type": "stream",
     "text": [
      "gender\n",
      "F    71840\n",
      "M    38687\n",
      "Name: patientid, dtype: int64\n"
     ]
    },
    {
     "data": {
      "image/png": "[encoded data removed]",
      "text/plain": [
       "<Figure size 432x288 with 1 Axes>"
      ]
     },
     "metadata": {
      "needs_background": "light"
     },
     "output_type": "display_data"
    }
   ],
   "source": [
    "make_plot('gender', 'bar')"
   ]
  },
  {
   "cell_type": "markdown",
   "id": "307bc00f",
   "metadata": {},
   "source": [
    "There are more female patients than male"
   ]
  },
  {
   "cell_type": "markdown",
   "id": "8e27a25c",
   "metadata": {},
   "source": [
    "#### Create new column called \"age_group\""
   ]
  },
  {
   "cell_type": "code",
   "execution_count": 17,
   "id": "abd196bc",
   "metadata": {},
   "outputs": [
    {
     "data": {
      "text/plain": [
       "count    110527.000000\n",
       "mean         37.088874\n",
       "std          23.110205\n",
       "min          -1.000000\n",
       "25%          18.000000\n",
       "50%          37.000000\n",
       "75%          55.000000\n",
       "max         115.000000\n",
       "Name: age, dtype: float64"
      ]
     },
     "execution_count": 17,
     "metadata": {},
     "output_type": "execute_result"
    }
   ],
   "source": [
    "# View the min, 25%, 50%, 75%, max age values with Pandas describe\n",
    "df.describe().age"
   ]
  },
  {
   "cell_type": "code",
   "execution_count": 18,
   "id": "27c8d2ea",
   "metadata": {},
   "outputs": [],
   "source": [
    "# Labels for the four  age groups\n",
    "bin_names = ['child', 'teen', 'adult', 'old'] # Name each age group"
   ]
  },
  {
   "cell_type": "code",
   "execution_count": 19,
   "id": "95f879d4",
   "metadata": {},
   "outputs": [],
   "source": [
    "# Bin edges  to \"cut\" the data into groups\n",
    "#bin_edges = [-1.0, 18.0, 37.0, 55.0, 115.0] # Fill in this list with five values you just found"
   ]
  },
  {
   "cell_type": "code",
   "execution_count": 20,
   "id": "af718455",
   "metadata": {},
   "outputs": [
    {
     "ename": "NameError",
     "evalue": "name 'bin_edges' is not defined",
     "output_type": "error",
     "traceback": [
      "\u001b[1;31m---------------------------------------------------------------------------\u001b[0m",
      "\u001b[1;31mNameError\u001b[0m                                 Traceback (most recent call last)",
      "Input \u001b[1;32mIn [20]\u001b[0m, in \u001b[0;36m<cell line: 2>\u001b[1;34m()\u001b[0m\n\u001b[0;32m      1\u001b[0m \u001b[38;5;66;03m#create a new column called age_group\u001b[39;00m\n\u001b[1;32m----> 2\u001b[0m df[\u001b[38;5;124m'\u001b[39m\u001b[38;5;124mage_group\u001b[39m\u001b[38;5;124m'\u001b[39m] \u001b[38;5;241m=\u001b[39m pd\u001b[38;5;241m.\u001b[39mcut(df[\u001b[38;5;124m'\u001b[39m\u001b[38;5;124mage\u001b[39m\u001b[38;5;124m'\u001b[39m], \u001b[43mbin_edges\u001b[49m, labels\u001b[38;5;241m=\u001b[39mbin_names)\n\u001b[0;32m      3\u001b[0m df\u001b[38;5;241m.\u001b[39mhead(\u001b[38;5;241m1\u001b[39m)\n",
      "\u001b[1;31mNameError\u001b[0m: name 'bin_edges' is not defined"
     ]
    }
   ],
   "source": [
    "#create a new column called age_group\n",
    "df['age_group'] = pd.cut(df['age'], bin_edges, labels=bin_names)\n",
    "df.head(1)"
   ]
  },
  {
   "cell_type": "code",
   "execution_count": null,
   "id": "f2789bbf",
   "metadata": {},
   "outputs": [],
   "source": [
    "scholar = (df['scholarship'] == True).sum()\n",
    "not_scholar = (df['scholarship'] == False).sum()\n",
    "\n",
    "value = [scholar, not_scholar]\n",
    "label = ('scholar','not a scholar')\n",
    "\n",
    "plt.pie(value, labels = label, autopct= '%.1f%%')\n",
    "plt.title('percentage of patients on scholarship')\n",
    "plt.figure(figsize=(10,10))\n",
    "plt.show()"
   ]
  },
  {
   "cell_type": "markdown",
   "id": "04a48209",
   "metadata": {},
   "source": [
    "From the pie chart we can see that 90% of patients are not on Social Welfare"
   ]
  },
  {
   "cell_type": "markdown",
   "id": "9bc84c9a",
   "metadata": {},
   "source": [
    "## Is gender associated with keeping appointments?"
   ]
  },
  {
   "cell_type": "code",
   "execution_count": null,
   "id": "027dc2cf",
   "metadata": {},
   "outputs": [],
   "source": [
    "df.groupby('gender').no_show.value_counts().plot(kind='bar');"
   ]
  },
  {
   "cell_type": "markdown",
   "id": "2644e952",
   "metadata": {},
   "source": [
    "We can see more women than men kept their appointments"
   ]
  },
  {
   "cell_type": "markdown",
   "id": "f17c88e0",
   "metadata": {},
   "source": [
    "Looking at the average, we can see gender is not a factor in appointments being kept. "
   ]
  },
  {
   "cell_type": "markdown",
   "id": "ab5f64b2",
   "metadata": {},
   "source": [
    "## Is a age a factor for keeping appointments?"
   ]
  },
  {
   "cell_type": "code",
   "execution_count": null,
   "id": "d2dde46f",
   "metadata": {},
   "outputs": [],
   "source": [
    "df.age_group.value_counts().plot(kind='pie');"
   ]
  },
  {
   "cell_type": "markdown",
   "id": "bb5d3017",
   "metadata": {},
   "source": [
    "Age wise, there's an almost even distribution of age groups."
   ]
  },
  {
   "cell_type": "code",
   "execution_count": null,
   "id": "6fc521a9",
   "metadata": {},
   "outputs": [],
   "source": [
    "df.groupby('age_group')['show'].value_counts().plot(kind='bar');\n"
   ]
  },
  {
   "cell_type": "markdown",
   "id": "b6405f37",
   "metadata": {},
   "source": [
    "On average, adult women and men kept their appointments more than other age groups, with teens and children having the highest abscence."
   ]
  },
  {
   "cell_type": "markdown",
   "id": "12513e5e",
   "metadata": {},
   "source": [
    "<a id='wrangling'></a>\n",
    "### Conclusions\n",
    "\n",
    "From our analysis of this dataset, we can see that gender doesn't play a huge factor in missed/kept appoinments, AGE does.\n",
    "We can see younger people missed their appointments more, this might be due to the fact they have to be brought in by an older person."
   ]
  }
 ],
 "metadata": {
  "kernelspec": {
   "display_name": "Python 3 (ipykernel)",
   "language": "python",
   "name": "python3"
  },
  "language_info": {
   "codemirror_mode": {
    "name": "ipython",
    "version": 3
   },
   "file_extension": ".py",
   "mimetype": "text/x-python",
   "name": "python",
   "nbconvert_exporter": "python",
   "pygments_lexer": "ipython3",
   "version": "3.9.12"
  }
 },
 "nbformat": 4,
 "nbformat_minor": 5
}
